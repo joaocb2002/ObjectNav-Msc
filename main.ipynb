{
 "cells": [
  {
   "cell_type": "markdown",
   "metadata": {},
   "source": [
    "# Notes\n",
    "\n",
    "1. Navmesh is a 3D space, not a 2D. It is natural that the bounding boxes of it and the whole space match.\n",
    "\n",
    "2. X -> right; Y-> up; Z-> front (right-hand rule)\n",
    "\n",
    "3. Sensor coordinates are relative to agent center of mass (that should have y=0)"
   ]
  },
  {
   "cell_type": "code",
   "execution_count": 1,
   "metadata": {},
   "outputs": [
    {
     "name": "stderr",
     "output_type": "stream",
     "text": [
      "PluginManager::Manager: duplicate static plugin StbImageImporter, ignoring\n",
      "PluginManager::Manager: duplicate static plugin GltfImporter, ignoring\n",
      "PluginManager::Manager: duplicate static plugin BasisImporter, ignoring\n",
      "PluginManager::Manager: duplicate static plugin AssimpImporter, ignoring\n",
      "PluginManager::Manager: duplicate static plugin AnySceneImporter, ignoring\n",
      "PluginManager::Manager: duplicate static plugin AnyImageImporter, ignoring\n"
     ]
    }
   ],
   "source": [
    "import random\n",
    "import magnum as mn\n",
    "import numpy as np\n",
    "from PIL import Image\n",
    "from matplotlib import pyplot as plt\n",
    "from scipy.spatial.transform import Rotation as R\n",
    "\n",
    "import habitat_sim\n",
    "import habitat_sim.nav as nav\n",
    "from habitat.utils.visualizations import maps\n",
    "from habitat_sim.utils import common as utils\n",
    "from habitat_sim.utils import viz_utils as vut\n",
    "from habitat_sim.utils.common import quat_from_angle_axis, quat_to_angle_axis\n",
    "from habitat_sim.utils.common import d3_40_colors_rgb"
   ]
  },
  {
   "cell_type": "code",
   "execution_count": 2,
   "metadata": {},
   "outputs": [],
   "source": [
    "# Dataset and scene\n",
    "dataset_config_file = \"../ai2thor-hab-dataset/ai2thor-hab/ai2thor-hab.scene_dataset_config.json\"\n",
    "scene = \"FloorPlan2_physics\"\n",
    "\n",
    "# Sensors and other sim settings\n",
    "rgb_sensor = True  # @param {type:\"boolean\"}\n",
    "depth_sensor = True  # @param {type:\"boolean\"}"
   ]
  },
  {
   "cell_type": "code",
   "execution_count": 3,
   "metadata": {},
   "outputs": [],
   "source": [
    "# Define the simulator configuration\n",
    "sim_settings = {\n",
    "    \"dataset\": dataset_config_file,  # Scene dataset\n",
    "    \"scene\": scene,  # Scene path\n",
    "    \"width\": 512,  # Spatial resolution of the observations\n",
    "    \"height\": 512,\n",
    "    \"default_agent\": 0,\n",
    "    \"sensor_height\": 1.5,  # Height of sensors in meters\n",
    "    \"color_sensor\": rgb_sensor,  # RGB sensor\n",
    "    \"depth_sensor\": depth_sensor,  # Depth sensor\n",
    "    \"seed\": 1,\n",
    "    \"enable_physics\": False,  # kinematics only\n",
    "}"
   ]
  },
  {
   "cell_type": "code",
   "execution_count": 4,
   "metadata": {},
   "outputs": [],
   "source": [
    "# Function to display the sensor data\n",
    "def display_sample(rgb_obs, depth_obs, top_down_map):\n",
    "    # Visualize the observations: RGB\n",
    "    rgb_img = Image.fromarray(rgb_obs, mode=\"RGBA\")\n",
    "    arr = [rgb_img]\n",
    "    titles = [\"rgb\"]\n",
    "\n",
    "    # Visualize the observations: Depth\n",
    "    depth_img = Image.fromarray((depth_obs / 10 * 255).astype(np.uint8), mode=\"L\")\n",
    "    arr.append(depth_img)\n",
    "    titles.append(\"depth\")\n",
    "\n",
    "    # Visualize the observations: Top-down map\n",
    "    arr.append(top_down_map)\n",
    "    titles.append(\"top-down map\")\n",
    "\n",
    "    # Display the images\n",
    "    plt.figure(figsize=(18, 12))\n",
    "    for i, data in enumerate(arr):\n",
    "        ax = plt.subplot(1, 3, i + 1)\n",
    "        ax.axis(\"off\")\n",
    "        ax.set_title(titles[i])\n",
    "        plt.imshow(data)\n",
    "    plt.show(block=False)"
   ]
  },
  {
   "cell_type": "code",
   "execution_count": 5,
   "metadata": {},
   "outputs": [],
   "source": [
    "# Function to create the simulator configuration\n",
    "def make_cfg(settings):\n",
    "    sim_cfg = habitat_sim.SimulatorConfiguration()\n",
    "    sim_cfg.gpu_device_id = 0\n",
    "    sim_cfg.scene_dataset_config_file = settings[\"dataset\"]\n",
    "    sim_cfg.scene_id = settings[\"scene\"]\n",
    "    sim_cfg.enable_physics = settings[\"enable_physics\"]\n",
    "\n",
    "    # Note: all sensors must have the same resolution\n",
    "    sensors = {\n",
    "        \"color_sensor\": {\n",
    "            \"sensor_type\": habitat_sim.SensorType.COLOR,\n",
    "            \"resolution\": [settings[\"height\"], settings[\"width\"]],\n",
    "            \"position\": [0.0, settings[\"sensor_height\"], 0.0],\n",
    "        },\n",
    "        \"depth_sensor\": {\n",
    "            \"sensor_type\": habitat_sim.SensorType.DEPTH,\n",
    "            \"resolution\": [settings[\"height\"], settings[\"width\"]],\n",
    "            \"position\": [0.0, settings[\"sensor_height\"], 0.0],\n",
    "        },\n",
    "    }\n",
    "\n",
    "    sensor_specs = []\n",
    "    for sensor_uuid, sensor_params in sensors.items():\n",
    "        if settings[sensor_uuid]:\n",
    "            sensor_spec = habitat_sim.CameraSensorSpec()\n",
    "            sensor_spec.uuid = sensor_uuid\n",
    "            sensor_spec.sensor_type = sensor_params[\"sensor_type\"]\n",
    "            sensor_spec.resolution = sensor_params[\"resolution\"]\n",
    "            sensor_spec.position = sensor_params[\"position\"]\n",
    "            sensor_specs.append(sensor_spec)\n",
    "\n",
    "    # Here you can specify the amount of displacement in a forward action and the turn angle\n",
    "    agent_cfg = habitat_sim.agent.AgentConfiguration()\n",
    "    agent_cfg.sensor_specifications = sensor_specs\n",
    "    agent_cfg.action_space = {\n",
    "        \"move_forward\": habitat_sim.agent.ActionSpec(\n",
    "            \"move_forward\", habitat_sim.agent.ActuationSpec(amount=0.25)\n",
    "        ),\n",
    "        \"turn_left\": habitat_sim.agent.ActionSpec(\n",
    "            \"turn_left\", habitat_sim.agent.ActuationSpec(amount=30.0)\n",
    "        ),\n",
    "        \"turn_right\": habitat_sim.agent.ActionSpec(\n",
    "            \"turn_right\", habitat_sim.agent.ActuationSpec(amount=30.0)\n",
    "        ),\n",
    "    }\n",
    "\n",
    "    return habitat_sim.Configuration(sim_cfg, [agent_cfg])"
   ]
  },
  {
   "cell_type": "code",
   "execution_count": 6,
   "metadata": {},
   "outputs": [],
   "source": [
    "# Initialize the simulator\n",
    "cfg = make_cfg(sim_settings)"
   ]
  },
  {
   "cell_type": "code",
   "execution_count": 9,
   "metadata": {},
   "outputs": [],
   "source": [
    "sim = habitat_sim.Simulator(cfg)"
   ]
  },
  {
   "cell_type": "code",
   "execution_count": 10,
   "metadata": {},
   "outputs": [
    {
     "name": "stdout",
     "output_type": "stream",
     "text": [
      "Scene bounding box (X, Y, Z)\n",
      "Min corner: [-2.5, -0.1, -2.0]\n",
      "Max corner: [3.3, 2.6, 4.0]\n",
      "Scene dimensions (X, Y, Z): [5.8, 2.7, 6.0]\n"
     ]
    }
   ],
   "source": [
    "# Get the root node of the active scene graph\n",
    "scene_root = sim.get_active_scene_graph().get_root_node()\n",
    "scene_bb = scene_root.cumulative_bb\n",
    "scene_dims = scene_bb.size()\n",
    "\n",
    "# Print bounds with one decimal case\n",
    "print(\"Scene bounding box (X, Y, Z)\")\n",
    "print(\"Min corner: [{:.1f}, {:.1f}, {:.1f}]\".format(scene_bb.min[0], scene_bb.min[1], scene_bb.min[2]))\n",
    "print(\"Max corner: [{:.1f}, {:.1f}, {:.1f}]\".format(scene_bb.max[0], scene_bb.max[1], scene_bb.max[2]))\n",
    "print(\"Scene dimensions (X, Y, Z): [{:.1f}, {:.1f}, {:.1f}]\".format(scene_dims[0], scene_dims[1], scene_dims[2]))"
   ]
  },
  {
   "cell_type": "code",
   "execution_count": 11,
   "metadata": {},
   "outputs": [
    {
     "name": "stdout",
     "output_type": "stream",
     "text": [
      "NavMesh area = 48.3\n",
      "Min corner: [-2.5, -0.1, -2.0], \n",
      "Max corner: [3.3, 2.6, 4.0]\n"
     ]
    }
   ],
   "source": [
    "# Define navmesh settings\n",
    "navmesh_settings = habitat_sim.NavMeshSettings()\n",
    "navmesh_settings.agent_height = 1.5\n",
    "navmesh_settings.agent_radius = 0.1\n",
    "navmesh_settings.agent_max_climb = 0.2\n",
    "navmesh_settings.agent_max_slope = 45.0\n",
    "navmesh_settings.include_static_objects = True  # Include static objects in the navmesh computation\n",
    "\n",
    "# Recompute the navmesh for the current scene\n",
    "success = sim.recompute_navmesh(sim.pathfinder, navmesh_settings)\n",
    "if not sim.pathfinder.is_loaded:\n",
    "    print(\"Pathfinder not initialized, aborting.\")\n",
    "else:\n",
    "    # @markdown NavMesh area and bounding box can be queried via *navigable_area* and *get_bounds* respectively.\n",
    "    print(\"NavMesh area = {:.1f}\".format(sim.pathfinder.navigable_area))\n",
    "    bounds = sim.pathfinder.get_bounds()\n",
    "    print(\"Min corner: [{:.1f}, {:.1f}, {:.1f}], \\nMax corner: [{:.1f}, {:.1f}, {:.1f}]\".format(\n",
    "        bounds[0][0], bounds[0][1], bounds[0][2], bounds[1][0], bounds[1][1], bounds[1][2]))"
   ]
  },
  {
   "cell_type": "code",
   "execution_count": 12,
   "metadata": {},
   "outputs": [
    {
     "data": {
      "image/png": "[encoded data removed]",
      "text/plain": [
       "<Figure size 400x400 with 1 Axes>"
      ]
     },
     "metadata": {},
     "output_type": "display_data"
    }
   ],
   "source": [
    "# Generate the top-down map at a specific height (0 by default), with given resolution\n",
    "topdown_map = maps.get_topdown_map(sim.pathfinder,\n",
    "    height=0,                 # height in meters to slice the map\n",
    "    meters_per_pixel=0.05,      # resolution: lower = higher resolution\n",
    "    draw_border=True\n",
    ")\n",
    "\n",
    "# Color the top-down map\n",
    "topdown_map = maps.colorize_topdown_map(topdown_map)\n",
    "\n",
    "# Display the top-down map\n",
    "plt.figure(figsize=(4, 4))\n",
    "plt.imshow(topdown_map, cmap=\"gray\")\n",
    "plt.axis('off')\n",
    "plt.show()"
   ]
  },
  {
   "cell_type": "code",
   "execution_count": 13,
   "metadata": {},
   "outputs": [
    {
     "name": "stdout",
     "output_type": "stream",
     "text": [
      "Scene origin position: Vector(0, 0, 0)\n",
      "Scene origin rotation: Quaternion({0, 0, 0}, 1) \n",
      "\n",
      "Bottom-left in world coordinates: [-2.5, -0.1, -2.0]\n",
      "Top-right in world coordinates: [3.3, 2.6, 4.0] \n",
      "\n",
      "Origin in map grid coordinates: (40, 49)\n",
      "Bottom-left in map grid coordinates: (-9, 9)\n",
      "Top-right in map grid coordinates: (105, 128)\n",
      "\n",
      "Origin in map grid coordinates: (49, 40)\n",
      "Bottom-left in map grid coordinates: (0, 0)\n",
      "Top-right in map grid coordinates: (114, 119)\n",
      "\n",
      "Top-down map dimensions: (120, 115, 3)\n"
     ]
    },
    {
     "data": {
      "image/png": "[encoded data removed]",
      "text/plain": [
       "<Figure size 600x600 with 1 Axes>"
      ]
     },
     "metadata": {},
     "output_type": "display_data"
    }
   ],
   "source": [
    "# Print the root node's position and rotation\n",
    "scene_graph = sim.get_active_scene_graph()\n",
    "root_node = scene_graph.get_root_node()\n",
    "print(\"Scene origin position:\", root_node.translation)\n",
    "print(\"Scene origin rotation:\", root_node.rotation, \"\\n\")\n",
    "\n",
    "# World coordinate to map grid coordinate: origin, bottom-left corner of the navigable volume and top-right corner \n",
    "origin = np.array(root_node.translation)\n",
    "bottom_left = [sim.pathfinder.get_bounds()[0][0], sim.pathfinder.get_bounds()[0][1], sim.pathfinder.get_bounds()[0][2]]\n",
    "top_right = [sim.pathfinder.get_bounds()[1][0], sim.pathfinder.get_bounds()[1][1], sim.pathfinder.get_bounds()[1][2]]\n",
    "grid_resolution = topdown_map.shape  # (height, width)\n",
    "print(\"Bottom-left in world coordinates: [{:.1f}, {:.1f}, {:.1f}]\".format(*bottom_left))\n",
    "print(\"Top-right in world coordinates: [{:.1f}, {:.1f}, {:.1f}]\".format(*top_right), \"\\n\")\n",
    "\n",
    "# Convert to grid coordinates\n",
    "origin_px = maps.to_grid(origin[0], origin[2], grid_resolution, pathfinder=sim.pathfinder)\n",
    "bottom_left_px = maps.to_grid(bottom_left[0], bottom_left[2], grid_resolution, pathfinder=sim.pathfinder)\n",
    "top_right_px = maps.to_grid(top_right[0], top_right[2], grid_resolution, pathfinder=sim.pathfinder)\n",
    "print(\"Origin in map grid coordinates:\", origin_px)\n",
    "print(\"Bottom-left in map grid coordinates:\", bottom_left_px)\n",
    "print(\"Top-right in map grid coordinates:\", top_right_px)\n",
    "\n",
    "# Compute the offset\n",
    "offset_x = min(bottom_left_px[0], top_right_px[0])\n",
    "offset_z = min(bottom_left_px[1], top_right_px[1])\n",
    "\n",
    "# Update coordinates\n",
    "origin_px = (origin_px[0] - offset_x, origin_px[1] - offset_z)\n",
    "bottom_left_px = (bottom_left_px[0] - offset_x, bottom_left_px[1] - offset_z)\n",
    "top_right_px = (top_right_px[0] - offset_x, top_right_px[1] - offset_z)\n",
    "\n",
    "# Print the updated coordinates\n",
    "print(\"\\nOrigin in map grid coordinates:\", origin_px)\n",
    "print(\"Bottom-left in map grid coordinates:\", bottom_left_px)\n",
    "print(\"Top-right in map grid coordinates:\", top_right_px)\n",
    "\n",
    "# Print top-down map dimensions\n",
    "print(\"\\nTop-down map dimensions:\", topdown_map.shape)\n",
    "\n",
    "# Plot\n",
    "plt.figure(figsize=(6, 6))\n",
    "plt.imshow(topdown_map, cmap=\"gray\")\n",
    "plt.scatter(origin_px[0], origin_px[1], c=\"red\", marker=\"o\", label=\"origin\")\n",
    "plt.scatter(bottom_left_px[0], bottom_left_px[1], c=\"blue\", marker=\"x\", label=\"bottom-left\")\n",
    "plt.scatter(top_right_px[0], top_right_px[1], c=\"green\", marker=\"x\", label=\"top-right\")\n",
    "plt.title(\"Top-Down Map with Origin\")\n",
    "plt.axis(\"off\")\n",
    "plt.legend()\n",
    "plt.show()"
   ]
  },
  {
   "cell_type": "code",
   "execution_count": 14,
   "metadata": {},
   "outputs": [
    {
     "name": "stdout",
     "output_type": "stream",
     "text": [
      "Position: [-0.49981213  0.          1.5339875 ]\n",
      "Rotation: quaternion(1, 0, 0, 0)\n"
     ]
    }
   ],
   "source": [
    "# Initialize an agent\n",
    "agent = sim.initialize_agent(sim_settings[\"default_agent\"])\n",
    "agent_state = habitat_sim.AgentState()\n",
    "while(True):\n",
    "    random_position = sim.pathfinder.get_random_navigable_point()\n",
    "    random_position = np.array([random_position[0], 0.0, random_position[2]])\n",
    "    if sim.pathfinder.is_navigable(random_position):\n",
    "        break\n",
    "agent_state.position = random_position\n",
    "agent_state.rotation = np.quaternion(1.0, 0.0, 0.0, 0.0)\n",
    "agent.set_state(agent_state)\n",
    "\n",
    "# Print the agent's state\n",
    "print(\"Position:\", agent.state.position)\n",
    "print(\"Rotation:\", agent.state.rotation)"
   ]
  },
  {
   "cell_type": "code",
   "execution_count": 22,
   "metadata": {},
   "outputs": [],
   "source": [
    "def plot_agent_on_map(sim, agent, topdown_map, offset):\n",
    "\n",
    "    # Get agent state\n",
    "    agent_state = agent.get_state()\n",
    "    agent_position = agent_state.position\n",
    "    agent_rotation = agent_state.rotation  # This is a quaternion\n",
    "\n",
    "    # Convert quaternion to yaw angle in degrees\n",
    "    r = R.from_quat([agent_rotation.x, agent_rotation.y, agent_rotation.z, agent_rotation.w])\n",
    "    agent_heading = r.as_euler('xyz', degrees=True)[1]  # Extract the yaw component\n",
    "\n",
    "    # Convert agent's 3D position to 2D top-down coordinates\n",
    "    map_agent_pos = maps.to_grid(\n",
    "        agent_position[0], agent_position[2],  # Convert 3D position to 2D\n",
    "        topdown_map.shape, \n",
    "        pathfinder=sim.pathfinder\n",
    "    )\n",
    "\n",
    "    # Print agent position and heading\n",
    "    print(\"Agent position:\", map_agent_pos)\n",
    "    print(\"Agent heading (yaw angle in degrees):\", agent_heading)\n",
    "\n",
    "    # Compute offset\n",
    "    offset_x, offset_z = offset\n",
    "    map_agent_pos = (map_agent_pos[0] - offset_x, map_agent_pos[1] - offset_z)\n",
    "\n",
    "    # Print agent position and heading\n",
    "    print(\"\\nUpdated agent position:\", map_agent_pos)\n",
    "    print(\"Agent heading (yaw angle in degrees):\", agent_heading)\n",
    "    \n",
    "    # Plot map and agent position\n",
    "    plt.figure(figsize=(6, 6))\n",
    "    plt.imshow(topdown_map, cmap=\"gray\")\n",
    "    plt.scatter(map_agent_pos[1], map_agent_pos[0], c=\"red\", marker=\"x\", label=\"agent\")\n",
    "    plt.title(\"Agent Position on Top-Down Map\")\n",
    "    plt.axis(\"off\")\n",
    "    plt.legend()\n",
    "    plt.show()\n",
    "\n",
    "    #Colorize the top-down map\n",
    "    new_map=maps.draw_agent(topdown_map, map_agent_pos, agent_heading, agent_radius_px=4)\n",
    "    plt.figure(figsize=(6, 6))\n",
    "    plt.imshow(new_map)\n",
    "    plt.axis(\"off\")\n",
    "    plt.title(\"Agent Position on Top-Down Map\")\n",
    "    plt.show()\n"
   ]
  },
  {
   "cell_type": "code",
   "execution_count": 23,
   "metadata": {},
   "outputs": [
    {
     "name": "stdout",
     "output_type": "stream",
     "text": [
      "Agent position: (30, 79)\n",
      "Agent heading (yaw angle in degrees): 0.0\n",
      "\n",
      "Updated agent position: (39, 70)\n",
      "Agent heading (yaw angle in degrees): 0.0\n"
     ]
    },
    {
     "data": {
      "image/png": "[encoded data removed]",
      "text/plain": [
       "<Figure size 600x600 with 1 Axes>"
      ]
     },
     "metadata": {},
     "output_type": "display_data"
    },
    {
     "data": {
      "image/png": "[encoded data removed]",
      "text/plain": [
       "<Figure size 600x600 with 1 Axes>"
      ]
     },
     "metadata": {},
     "output_type": "display_data"
    },
    {
     "name": "stdout",
     "output_type": "stream",
     "text": [
      "Agent position is navigable: True\n"
     ]
    }
   ],
   "source": [
    "plot_agent_on_map(sim, agent, topdown_map, (offset_x, offset_z))\n",
    "\n",
    "# Check if agente position is navigable\n",
    "agent_state = agent.get_state()\n",
    "agent_position = agent_state.position\n",
    "is_navigable = sim.pathfinder.is_navigable(agent_position)\n",
    "print(\"Agent position is navigable:\", is_navigable)"
   ]
  },
  {
   "cell_type": "code",
   "execution_count": 25,
   "metadata": {},
   "outputs": [],
   "source": [
    "def agent_on_map_img(sim, agent, topdown_map, offset):\n",
    "    # Get agent state\n",
    "    agent_state = agent.get_state()\n",
    "    agent_position = agent_state.position\n",
    "    agent_rotation = agent_state.rotation  # This is a quaternion\n",
    "\n",
    "    # Convert quaternion to yaw angle in degrees\n",
    "    r = R.from_quat([agent_rotation.x, agent_rotation.y, agent_rotation.z, agent_rotation.w])\n",
    "    agent_heading = r.as_euler('xyz', degrees=True)[1]  # Extract the yaw component\n",
    "\n",
    "    # Convert agent's 3D position to 2D top-down coordinates\n",
    "    map_agent_pos = maps.to_grid(\n",
    "        agent_position[0], agent_position[2],  # Convert 3D position to 2D\n",
    "        topdown_map.shape, \n",
    "        pathfinder=sim.pathfinder\n",
    "    )\n",
    "\n",
    "    # Compute offset\n",
    "    offset_x, offset_z = offset\n",
    "    map_agent_pos = (map_agent_pos[0] - offset_x, map_agent_pos[1] - offset_z)\n",
    "\n",
    "    #Colorize the top-down map\n",
    "    new_map=maps.draw_agent(topdown_map, map_agent_pos, agent_heading, agent_radius_px=4)\n",
    "\n",
    "    return new_map"
   ]
  },
  {
   "cell_type": "code",
   "execution_count": null,
   "metadata": {},
   "outputs": [
    {
     "ename": "",
     "evalue": "",
     "output_type": "error",
     "traceback": [
      "\u001b[1;31mThe Kernel crashed while executing code in the current cell or a previous cell. \n",
      "\u001b[1;31mPlease review the code in the cell(s) to identify a possible cause of the failure. \n",
      "\u001b[1;31mClick <a href='https://aka.ms/vscodeJupyterKernelCrash'>here</a> for more info. \n",
      "\u001b[1;31mView Jupyter <a href='command:jupyter.viewOutput'>log</a> for further details."
     ]
    }
   ],
   "source": [
    "total_frames = 0\n",
    "action_names = list(cfg.agents[sim_settings[\"default_agent\"]].action_space.keys())\n",
    "max_frames = 10\n",
    "\n",
    "while total_frames < max_frames:\n",
    "\n",
    "    # Get agent state\n",
    "    agent_state = agent.get_state()\n",
    "    print(\"agent_state: position\", agent_state.position, \"rotation\", agent_state.rotation)\n",
    "\n",
    "    # Take an action and get the observations\n",
    "    action = random.choice(action_names)\n",
    "    print(\"action\", action)\n",
    "    observations = sim.step(action)\n",
    "    rgb = observations[\"color_sensor\"]\n",
    "    depth = observations[\"depth_sensor\"]\n",
    "    top_down_map = agent_on_map_img(sim, agent, topdown_map, (offset_x, offset_z))\n",
    "    display_sample(rgb, depth, top_down_map)\n",
    "\n",
    "    # Update frame\n",
    "    total_frames += 1"
   ]
  },
  {
   "cell_type": "code",
   "execution_count": null,
   "metadata": {},
   "outputs": [],
   "source": []
  }
 ],
 "metadata": {
  "kernelspec": {
   "display_name": "habitat1",
   "language": "python",
   "name": "python3"
  },
  "language_info": {
   "codemirror_mode": {
    "name": "ipython",
    "version": 3
   },
   "file_extension": ".py",
   "mimetype": "text/x-python",
   "name": "python",
   "nbconvert_exporter": "python",
   "pygments_lexer": "ipython3",
   "version": "3.9.21"
  }
 },
 "nbformat": 4,
 "nbformat_minor": 2
}
